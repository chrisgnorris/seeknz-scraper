{
 "cells": [
  {
   "cell_type": "markdown",
   "metadata": {},
   "source": [
    "# Test File"
   ]
  },
  {
   "cell_type": "markdown",
   "metadata": {},
   "source": [
    "###### Create a test file with Jupyter and try and scrape Seek.co.nz\n",
    "###### Used https://www.youtube.com/watch?v=eN_3d4JrL_w as a base"
   ]
  },
  {
   "cell_type": "markdown",
   "metadata": {},
   "source": [
    "## Import and setup"
   ]
  },
  {
   "cell_type": "code",
   "execution_count": null,
   "metadata": {
    "collapsed": true
   },
   "outputs": [],
   "source": [
    "import csv\n",
    "from datetime import datetime\n",
    "import requests\n",
    "from bs4 import BeautifulSoup"
   ]
  },
  {
   "cell_type": "code",
   "execution_count": null,
   "metadata": {
    "collapsed": true
   },
   "outputs": [],
   "source": [
    "def get_url(position, location):\n",
    "    \"\"\"Generate a url from position and location\"\"\"\n",
    "    template = 'https://www.seek.co.nz/{}-jobs/in-All-{}'\n",
    "    url = template.format(position, location)\n",
    "    return url\n"
   ]
  },
  {
   "cell_type": "code",
   "execution_count": null,
   "metadata": {
    "collapsed": true
   },
   "outputs": [],
   "source": [
    "url = get_url('data-scientist','New-Zealand')"
   ]
  },
  {
   "cell_type": "markdown",
   "metadata": {},
   "source": [
    "## Extract raw html"
   ]
  },
  {
   "cell_type": "code",
   "execution_count": null,
   "metadata": {
    "collapsed": true
   },
   "outputs": [],
   "source": [
    "response = requests.get(url)"
   ]
  },
  {
   "cell_type": "raw",
   "metadata": {},
   "source": [
    "response"
   ]
  },
  {
   "cell_type": "code",
   "execution_count": null,
   "metadata": {},
   "outputs": [],
   "source": [
    "response.reason"
   ]
  },
  {
   "cell_type": "code",
   "execution_count": null,
   "metadata": {
    "collapsed": true
   },
   "outputs": [],
   "source": [
    "soup = BeautifulSoup(response.text, 'html.parser')"
   ]
  },
  {
   "cell_type": "code",
   "execution_count": null,
   "metadata": {
    "collapsed": true
   },
   "outputs": [],
   "source": [
    "cards = soup.find_all('article')"
   ]
  },
  {
   "cell_type": "code",
   "execution_count": null,
   "metadata": {},
   "outputs": [],
   "source": [
    "len(cards)"
   ]
  },
  {
   "cell_type": "code",
   "execution_count": null,
   "metadata": {},
   "outputs": [],
   "source": [
    "section = soup.find('div', {'class':'_3MPUOLE'})\n",
    "x = 0\n",
    "for div in section.select('div[data-search-sol-meta]'):\n",
    "    x = x + 1\n",
    "print(x)"
   ]
  },
  {
   "cell_type": "code",
   "execution_count": null,
   "metadata": {
    "collapsed": true
   },
   "outputs": [],
   "source": [
    "jobs = soup.find_all('div[data-search-sol-meta]')"
   ]
  },
  {
   "cell_type": "code",
   "execution_count": null,
   "metadata": {
    "collapsed": true
   },
   "outputs": [],
   "source": []
  },
  {
   "cell_type": "markdown",
   "metadata": {},
   "source": [
    "## Prototype the model with a single record"
   ]
  },
  {
   "cell_type": "code",
   "execution_count": null,
   "metadata": {
    "collapsed": true
   },
   "outputs": [],
   "source": [
    "card = cards[0]"
   ]
  },
  {
   "cell_type": "code",
   "execution_count": null,
   "metadata": {
    "collapsed": true
   },
   "outputs": [],
   "source": [
    "atag = card.h1.a"
   ]
  },
  {
   "cell_type": "code",
   "execution_count": null,
   "metadata": {
    "collapsed": true
   },
   "outputs": [],
   "source": [
    "job_title = atag.string"
   ]
  },
  {
   "cell_type": "code",
   "execution_count": null,
   "metadata": {
    "collapsed": true
   },
   "outputs": [],
   "source": [
    "job_url = 'https://www.seek.co.nz' + atag.get('href')"
   ]
  },
  {
   "cell_type": "code",
   "execution_count": null,
   "metadata": {
    "collapsed": true
   },
   "outputs": [],
   "source": [
    "company = card.find('span',{\"_3FrNV7v _3PZrylH E6m4BZb\"}).a.text.strip()"
   ]
  },
  {
   "cell_type": "code",
   "execution_count": null,
   "metadata": {},
   "outputs": [],
   "source": [
    "card.find('span',{\"_3FrNV7v _3PZrylH E6m4BZb\"}).text.strip()"
   ]
  },
  {
   "cell_type": "code",
   "execution_count": null,
   "metadata": {
    "collapsed": true
   },
   "outputs": [],
   "source": [
    "location = card.find('div',{'class':'xxz8a1h'}).a.text"
   ]
  },
  {
   "cell_type": "code",
   "execution_count": null,
   "metadata": {
    "collapsed": true
   },
   "outputs": [],
   "source": [
    "salary = card.find('span',{'class':'lwHBT6d'}).text"
   ]
  },
  {
   "cell_type": "code",
   "execution_count": null,
   "metadata": {},
   "outputs": [],
   "source": [
    "card.find_all('span',{'class':{'Eadjc1o' : 'location'}})"
   ]
  },
  {
   "cell_type": "code",
   "execution_count": null,
   "metadata": {
    "collapsed": true
   },
   "outputs": [],
   "source": [
    "jobcategory = card.find(attrs={\"data-automation\": \"jobClassification\"}).text"
   ]
  },
  {
   "cell_type": "markdown",
   "metadata": {},
   "source": [
    "## Prototype the model with a single record V2"
   ]
  },
  {
   "cell_type": "code",
   "execution_count": null,
   "metadata": {
    "collapsed": true
   },
   "outputs": [],
   "source": [
    "card = cards[0]"
   ]
  },
  {
   "cell_type": "code",
   "execution_count": null,
   "metadata": {
    "collapsed": true
   },
   "outputs": [],
   "source": [
    "job_title = card.find(attrs={\"data-automation\": \"jobTitle\"}).text"
   ]
  },
  {
   "cell_type": "code",
   "execution_count": null,
   "metadata": {
    "collapsed": true
   },
   "outputs": [],
   "source": [
    "job_url = 'https://www.seek.co.nz' + card.find(attrs={\"data-automation\": \"jobTitle\"}).get('href')"
   ]
  },
  {
   "cell_type": "code",
   "execution_count": 1009,
   "metadata": {
    "collapsed": true
   },
   "outputs": [],
   "source": [
    "try:\n",
    "    company = card.find(attrs={\"data-automation\": \"jobCompany\"}).text\n",
    "except AttributeError:\n",
    "    company = ''\n",
    "    "
   ]
  },
  {
   "cell_type": "code",
   "execution_count": 1010,
   "metadata": {
    "collapsed": true
   },
   "outputs": [],
   "source": [
    "location = card.find(attrs={\"data-automation\": \"jobLocation\"}).text"
   ]
  },
  {
   "cell_type": "code",
   "execution_count": null,
   "metadata": {
    "collapsed": true
   },
   "outputs": [],
   "source": [
    "try:\n",
    "    job_salary = card.find(attrs={\"data-automation\": \"jobSalary\"}).text\n",
    "except AttributeError:\n",
    "    job_salary = ''"
   ]
  },
  {
   "cell_type": "code",
   "execution_count": null,
   "metadata": {
    "collapsed": true
   },
   "outputs": [],
   "source": [
    "jobcategory = card.find(attrs={\"data-automation\": \"jobClassification\"}).text"
   ]
  },
  {
   "cell_type": "code",
   "execution_count": null,
   "metadata": {
    "collapsed": true
   },
   "outputs": [],
   "source": [
    "jobsubcategory = card.find(attrs={\"data-automation\": \"jobSubClassification\"}).text"
   ]
  },
  {
   "cell_type": "code",
   "execution_count": null,
   "metadata": {
    "collapsed": true
   },
   "outputs": [],
   "source": [
    "jobshortdescription = card.find(attrs={\"data-automation\": \"jobShortDescription\"}).text"
   ]
  },
  {
   "cell_type": "code",
   "execution_count": null,
   "metadata": {
    "collapsed": true
   },
   "outputs": [],
   "source": [
    "bullet_points = ''\n",
    "x = 0\n",
    "for li in card.select('li'):\n",
    "    if x == 0:\n",
    "        bullet_points = bullet_points + li.text\n",
    "        x = 1\n",
    "    else:\n",
    "        bullet_points = bullet_points + ' - ' + li.text"
   ]
  },
  {
   "cell_type": "markdown",
   "metadata": {},
   "source": [
    "## Generalise the model with a function"
   ]
  },
  {
   "cell_type": "code",
   "execution_count": null,
   "metadata": {
    "collapsed": true
   },
   "outputs": [],
   "source": [
    "def get_record(card):\n",
    "    \"\"\"Extract job data from a single record\"\"\"\n",
    "    card = cards[0]\n",
    "    job_title = card.find(attrs={\"data-automation\": \"jobTitle\"}).text\n",
    "    job_url = 'https://www.seek.co.nz' + card.find(attrs={\"data-automation\": \"jobTitle\"}).get('href')\n",
    "    company = card.find(attrs={\"data-automation\": \"jobCompany\"}).text\n",
    "    location = card.find(attrs={\"data-automation\": \"jobLocation\"}).text\n",
    "    try:\n",
    "        job_salary = card.find(attrs={\"data-automation\": \"jobSalary\"}).text\n",
    "    except AttributeError:\n",
    "        job_salary = ''\n",
    "    jobcategory = card.find(attrs={\"data-automation\": \"jobClassification\"}).text\n",
    "    jobsubcategory = card.find(attrs={\"data-automation\": \"jobSubClassification\"}).text\n",
    "    jobshortdescription = card.find(attrs={\"data-automation\": \"jobShortDescription\"}).text\n",
    "    bullet_points = ''\n",
    "    x = 0\n",
    "    for li in card.select('li'):\n",
    "        if x == 0:\n",
    "            bullet_points = bullet_points + li.text\n",
    "            x = 1\n",
    "        else:\n",
    "            bullet_points = bullet_points + ' - ' + li.text\n",
    "            \n",
    "    record = (job_title,company,location,jobshortdescription,bullet_points,job_salary,jobcategory,jobsubcategory,job_url)\n",
    "    \n",
    "    return record"
   ]
  },
  {
   "cell_type": "code",
   "execution_count": null,
   "metadata": {
    "collapsed": true
   },
   "outputs": [],
   "source": [
    "records = []\n",
    "\n",
    "for card in cards:\n",
    "    record = get_record(card)\n",
    "    records.append(record)"
   ]
  },
  {
   "cell_type": "code",
   "execution_count": null,
   "metadata": {},
   "outputs": [],
   "source": [
    "print(records[0])"
   ]
  },
  {
   "cell_type": "markdown",
   "metadata": {},
   "source": [
    "## Getting the next page"
   ]
  },
  {
   "cell_type": "code",
   "execution_count": null,
   "metadata": {},
   "outputs": [],
   "source": [
    "while True:\n",
    "    try:\n",
    "        url = 'https://www.seek.co.nz' + soup.find(attrs={\"data-automation\": \"page-next\"}).get('href')\n",
    "    except AttributeError:\n",
    "        break\n",
    "    \n",
    "    response = requests.get(url)\n",
    "    soup = BeautifulSoup(response.text, 'html.parser')\n",
    "    cards = soup.find_all('article')\n",
    "    \n",
    "    for card in cards:\n",
    "    record = get_record(card)\n",
    "    records.append(record)"
   ]
  },
  {
   "cell_type": "code",
   "execution_count": null,
   "metadata": {
    "collapsed": true
   },
   "outputs": [],
   "source": [
    "print(len(records))"
   ]
  },
  {
   "cell_type": "markdown",
   "metadata": {},
   "source": [
    "## Putting it all together"
   ]
  },
  {
   "cell_type": "code",
   "execution_count": 1013,
   "metadata": {},
   "outputs": [],
   "source": [
    "import csv\n",
    "from datetime import datetime\n",
    "import requests\n",
    "from bs4 import BeautifulSoup\n",
    "import time\n",
    "\n",
    "def get_url(position, location):\n",
    "    \"\"\"Generate a url from position and location\"\"\"\n",
    "    template = 'https://www.seek.co.nz/{}-jobs/in-All-{}'\n",
    "    url = template.format(position, location)\n",
    "    return url\n",
    "\n",
    "\n",
    "def get_record(card):\n",
    "    \"\"\"Extract job data from a single record\"\"\"\n",
    "    job_title = card.find(attrs={\"data-automation\": \"jobTitle\"}).text\n",
    "    job_url = 'https://www.seek.co.nz' + card.find(attrs={\"data-automation\": \"jobTitle\"}).get('href')\n",
    "    \n",
    "    try:\n",
    "        company = card.find(attrs={\"data-automation\": \"jobCompany\"}).text\n",
    "    except AttributeError:\n",
    "        company = ''\n",
    "        \n",
    "    location = card.find(attrs={\"data-automation\": \"jobLocation\"}).text\n",
    "    \n",
    "    try:\n",
    "        job_salary = card.find(attrs={\"data-automation\": \"jobSalary\"}).text\n",
    "    except AttributeError:\n",
    "        job_salary = ''\n",
    "        \n",
    "    jobcategory = card.find(attrs={\"data-automation\": \"jobClassification\"}).text\n",
    "    jobsubcategory = card.find(attrs={\"data-automation\": \"jobSubClassification\"}).text\n",
    "    jobshortdescription = card.find(attrs={\"data-automation\": \"jobShortDescription\"}).text\n",
    "    bullet_points = ''\n",
    "    x = 0\n",
    "    for li in card.select('li'):\n",
    "        if x == 0:\n",
    "            bullet_points = bullet_points + li.text\n",
    "            x = 1\n",
    "        else:\n",
    "            bullet_points = bullet_points + ' - ' + li.text\n",
    "            \n",
    "    record = (job_title,company,location,jobshortdescription,bullet_points,job_salary,jobcategory,jobsubcategory,job_url)\n",
    "    \n",
    "    return record\n",
    "\n",
    "def main(position,location):\n",
    "    \"\"\"Run the main program routine\"\"\"\n",
    "    records = []\n",
    "    url = get_url(position, location)\n",
    "    print(url)\n",
    "    \n",
    "    # extract the job data\n",
    "    while True:\n",
    "        response = requests.get(url)\n",
    "        soup = BeautifulSoup(response.text, 'html.parser')\n",
    "        cards = soup.find_all('article')\n",
    "\n",
    "        for card in cards:\n",
    "            time.sleep(1)\n",
    "            record = get_record(card)\n",
    "            records.append(record)       \n",
    "        \n",
    "        try:\n",
    "            url = 'https://www.seek.co.nz' + soup.find(attrs={\"data-automation\": \"page-next\"}).get('href')\n",
    "            print(url)\n",
    "        except AttributeError:\n",
    "            print('no more pages, saving data')\n",
    "            break\n",
    "            \n",
    "    # save the job data\n",
    "    with open('results.csv', 'w', newline='', encoding='utf-8') as f:\n",
    "        writer = csv.writer(f)\n",
    "        writer.writerow(['JobTitle', 'Company', 'Location', 'ShortDesc', 'BulletPoints','Salary','Cat','SubCat','URL'])\n",
    "        writer.writerows(records)\n",
    "        print('saved and done')"
   ]
  },
  {
   "cell_type": "code",
   "execution_count": 1014,
   "metadata": {},
   "outputs": [
    {
     "name": "stdout",
     "output_type": "stream",
     "text": [
      "https://www.seek.co.nz/operations-analyst-jobs/in-All-Auckland\n",
      "https://www.seek.co.nz/operations-analyst-jobs/in-All-Auckland?page=2\n",
      "https://www.seek.co.nz/operations-analyst-jobs/in-All-Auckland?page=3\n",
      "https://www.seek.co.nz/operations-analyst-jobs/in-All-Auckland?page=4\n",
      "no more pages, saving data\n",
      "saved and done\n"
     ]
    }
   ],
   "source": [
    "# run the main program\n",
    "main('operations-analyst','Auckland')"
   ]
  },
  {
   "cell_type": "code",
   "execution_count": null,
   "metadata": {
    "collapsed": true
   },
   "outputs": [],
   "source": []
  }
 ],
 "metadata": {
  "kernelspec": {
   "display_name": "Python 3",
   "language": "python",
   "name": "python3"
  },
  "language_info": {
   "codemirror_mode": {
    "name": "ipython",
    "version": 3
   },
   "file_extension": ".py",
   "mimetype": "text/x-python",
   "name": "python",
   "nbconvert_exporter": "python",
   "pygments_lexer": "ipython3",
   "version": "3.6.3"
  }
 },
 "nbformat": 4,
 "nbformat_minor": 2
}
