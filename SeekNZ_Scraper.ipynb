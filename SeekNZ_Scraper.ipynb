{
 "cells": [
  {
   "cell_type": "markdown",
   "metadata": {},
   "source": [
    "# Test File"
   ]
  },
  {
   "cell_type": "markdown",
   "metadata": {},
   "source": [
    "###### Create a test file with Jupyter and try and scrape Seek.co.nz\n",
    "###### Used https://www.youtube.com/watch?v=eN_3d4JrL_w as a base\n",
    "###### https://github.com/chrisgnorris/seeknz-scraper"
   ]
  },
  {
   "cell_type": "markdown",
   "metadata": {},
   "source": [
    "## Import and setup"
   ]
  },
  {
   "cell_type": "code",
   "execution_count": null,
   "metadata": {
    "collapsed": true
   },
   "outputs": [],
   "source": [
    "import csv\n",
    "from datetime import datetime\n",
    "import requests\n",
    "from bs4 import BeautifulSoup\n",
    "import pandas as pd"
   ]
  },
  {
   "cell_type": "code",
   "execution_count": null,
   "metadata": {
    "collapsed": true
   },
   "outputs": [],
   "source": [
    "def get_url(position, location):\n",
    "    \"\"\"Generate a url from position and location\"\"\"\n",
    "    template = 'https://www.seek.co.nz/{}-jobs/in-All-{}'\n",
    "    url = template.format(position, location)\n",
    "    return url\n"
   ]
  },
  {
   "cell_type": "code",
   "execution_count": null,
   "metadata": {
    "collapsed": true
   },
   "outputs": [],
   "source": [
    "url = get_url('data-scientist','New-Zealand')"
   ]
  },
  {
   "cell_type": "markdown",
   "metadata": {},
   "source": [
    "## Extract raw html"
   ]
  },
  {
   "cell_type": "code",
   "execution_count": null,
   "metadata": {
    "collapsed": true
   },
   "outputs": [],
   "source": [
    "response = requests.get(url)"
   ]
  },
  {
   "cell_type": "raw",
   "metadata": {},
   "source": [
    "response"
   ]
  },
  {
   "cell_type": "code",
   "execution_count": null,
   "metadata": {
    "collapsed": true
   },
   "outputs": [],
   "source": [
    "response.reason"
   ]
  },
  {
   "cell_type": "code",
   "execution_count": null,
   "metadata": {
    "collapsed": true
   },
   "outputs": [],
   "source": [
    "soup = BeautifulSoup(response.text, 'html.parser')"
   ]
  },
  {
   "cell_type": "code",
   "execution_count": null,
   "metadata": {
    "collapsed": true
   },
   "outputs": [],
   "source": [
    "cards = soup.find_all('article')"
   ]
  },
  {
   "cell_type": "code",
   "execution_count": null,
   "metadata": {
    "collapsed": true
   },
   "outputs": [],
   "source": [
    "len(cards)"
   ]
  },
  {
   "cell_type": "code",
   "execution_count": null,
   "metadata": {
    "collapsed": true
   },
   "outputs": [],
   "source": [
    "section = soup.find('div', {'class':'_3MPUOLE'})\n",
    "x = 0\n",
    "for div in section.select('div[data-search-sol-meta]'):\n",
    "    x = x + 1\n",
    "print(x)"
   ]
  },
  {
   "cell_type": "code",
   "execution_count": null,
   "metadata": {
    "collapsed": true
   },
   "outputs": [],
   "source": [
    "jobs = soup.find_all('div[data-search-sol-meta]')"
   ]
  },
  {
   "cell_type": "code",
   "execution_count": null,
   "metadata": {
    "collapsed": true
   },
   "outputs": [],
   "source": []
  },
  {
   "cell_type": "markdown",
   "metadata": {},
   "source": [
    "## Prototype the model with a single record"
   ]
  },
  {
   "cell_type": "code",
   "execution_count": null,
   "metadata": {
    "collapsed": true
   },
   "outputs": [],
   "source": [
    "card = cards[0]"
   ]
  },
  {
   "cell_type": "code",
   "execution_count": null,
   "metadata": {
    "collapsed": true
   },
   "outputs": [],
   "source": [
    "atag = card.h1.a"
   ]
  },
  {
   "cell_type": "code",
   "execution_count": null,
   "metadata": {
    "collapsed": true
   },
   "outputs": [],
   "source": [
    "job_title = atag.string"
   ]
  },
  {
   "cell_type": "code",
   "execution_count": null,
   "metadata": {
    "collapsed": true
   },
   "outputs": [],
   "source": [
    "job_url = 'https://www.seek.co.nz' + atag.get('href')"
   ]
  },
  {
   "cell_type": "code",
   "execution_count": null,
   "metadata": {
    "collapsed": true
   },
   "outputs": [],
   "source": [
    "company = card.find('span',{\"_3FrNV7v _3PZrylH E6m4BZb\"}).a.text.strip()"
   ]
  },
  {
   "cell_type": "code",
   "execution_count": null,
   "metadata": {
    "collapsed": true
   },
   "outputs": [],
   "source": [
    "card.find('span',{\"_3FrNV7v _3PZrylH E6m4BZb\"}).text.strip()"
   ]
  },
  {
   "cell_type": "code",
   "execution_count": null,
   "metadata": {
    "collapsed": true
   },
   "outputs": [],
   "source": [
    "location = card.find('div',{'class':'xxz8a1h'}).a.text"
   ]
  },
  {
   "cell_type": "code",
   "execution_count": null,
   "metadata": {
    "collapsed": true
   },
   "outputs": [],
   "source": [
    "salary = card.find('span',{'class':'lwHBT6d'}).text"
   ]
  },
  {
   "cell_type": "code",
   "execution_count": null,
   "metadata": {
    "collapsed": true
   },
   "outputs": [],
   "source": [
    "card.find_all('span',{'class':{'Eadjc1o' : 'location'}})"
   ]
  },
  {
   "cell_type": "code",
   "execution_count": null,
   "metadata": {
    "collapsed": true
   },
   "outputs": [],
   "source": [
    "jobcategory = card.find(attrs={\"data-automation\": \"jobClassification\"}).text"
   ]
  },
  {
   "cell_type": "markdown",
   "metadata": {},
   "source": [
    "## Prototype the model with a single record V2"
   ]
  },
  {
   "cell_type": "code",
   "execution_count": null,
   "metadata": {
    "collapsed": true
   },
   "outputs": [],
   "source": [
    "card = cards[1]"
   ]
  },
  {
   "cell_type": "code",
   "execution_count": null,
   "metadata": {
    "collapsed": true
   },
   "outputs": [],
   "source": [
    "job_title = card.find(attrs={\"data-automation\": \"jobTitle\"}).text"
   ]
  },
  {
   "cell_type": "code",
   "execution_count": null,
   "metadata": {
    "collapsed": true
   },
   "outputs": [],
   "source": [
    "job_url = 'https://www.seek.co.nz' + card.find(attrs={\"data-automation\": \"jobTitle\"}).get('href')"
   ]
  },
  {
   "cell_type": "code",
   "execution_count": null,
   "metadata": {
    "collapsed": true
   },
   "outputs": [],
   "source": [
    "try:\n",
    "    company = card.find(attrs={\"data-automation\": \"jobCompany\"}).text\n",
    "except AttributeError:\n",
    "    company = ''\n",
    "    "
   ]
  },
  {
   "cell_type": "code",
   "execution_count": null,
   "metadata": {
    "collapsed": true
   },
   "outputs": [],
   "source": [
    "location = card.find(attrs={\"data-automation\": \"jobLocation\"}).text"
   ]
  },
  {
   "cell_type": "code",
   "execution_count": null,
   "metadata": {
    "collapsed": true
   },
   "outputs": [],
   "source": [
    "try:\n",
    "    job_salary = card.find(attrs={\"data-automation\": \"jobSalary\"}).text\n",
    "except AttributeError:\n",
    "    job_salary = ''"
   ]
  },
  {
   "cell_type": "code",
   "execution_count": null,
   "metadata": {
    "collapsed": true
   },
   "outputs": [],
   "source": [
    "job_category = card.find(attrs={\"data-automation\": \"jobClassification\"}).text"
   ]
  },
  {
   "cell_type": "code",
   "execution_count": null,
   "metadata": {
    "collapsed": true
   },
   "outputs": [],
   "source": [
    "job_subcategory = card.find(attrs={\"data-automation\": \"jobSubClassification\"}).text"
   ]
  },
  {
   "cell_type": "code",
   "execution_count": null,
   "metadata": {
    "collapsed": true
   },
   "outputs": [],
   "source": [
    "job_short_description = card.find(attrs={\"data-automation\": \"jobShortDescription\"}).text"
   ]
  },
  {
   "cell_type": "code",
   "execution_count": null,
   "metadata": {
    "collapsed": true
   },
   "outputs": [],
   "source": [
    "try:\n",
    "    job_listing_date = card.find(attrs={\"data-automation\": \"jobListingDate\"}).text\n",
    "except AttributeError:\n",
    "    job_listing_date = 'Featured'"
   ]
  },
  {
   "cell_type": "code",
   "execution_count": null,
   "metadata": {
    "collapsed": true
   },
   "outputs": [],
   "source": [
    "date_mined = datetime.today().strftime('%Y-%m-%d')"
   ]
  },
  {
   "cell_type": "code",
   "execution_count": null,
   "metadata": {
    "collapsed": true
   },
   "outputs": [],
   "source": [
    "job_id = card.get('data-job-id')"
   ]
  },
  {
   "cell_type": "code",
   "execution_count": null,
   "metadata": {
    "collapsed": true
   },
   "outputs": [],
   "source": [
    "bullet_points = ''\n",
    "x = 0\n",
    "for li in card.select('li'):\n",
    "    if x == 0:\n",
    "        bullet_points = bullet_points + li.text\n",
    "        x = 1\n",
    "    else:\n",
    "        bullet_points = bullet_points + ' - ' + li.text"
   ]
  },
  {
   "cell_type": "markdown",
   "metadata": {},
   "source": [
    "## Generalise the model with a function"
   ]
  },
  {
   "cell_type": "code",
   "execution_count": null,
   "metadata": {
    "collapsed": true
   },
   "outputs": [],
   "source": [
    "def get_record(card):\n",
    "    \"\"\"Extract job data from a single record\"\"\"\n",
    "    card = cards[0]\n",
    "    job_title = card.find(attrs={\"data-automation\": \"jobTitle\"}).text\n",
    "    job_url = 'https://www.seek.co.nz' + card.find(attrs={\"data-automation\": \"jobTitle\"}).get('href')\n",
    "    company = card.find(attrs={\"data-automation\": \"jobCompany\"}).text\n",
    "    location = card.find(attrs={\"data-automation\": \"jobLocation\"}).text\n",
    "    try:\n",
    "        job_salary = card.find(attrs={\"data-automation\": \"jobSalary\"}).text\n",
    "    except AttributeError:\n",
    "        job_salary = ''\n",
    "    job_category = card.find(attrs={\"data-automation\": \"jobClassification\"}).text\n",
    "    job_subcategory = card.find(attrs={\"data-automation\": \"jobSubClassification\"}).text\n",
    "    job_short_description = card.find(attrs={\"data-automation\": \"jobShortDescription\"}).text\n",
    "    try:\n",
    "        job_listing_date = card.find(attrs={\"data-automation\": \"jobListingDate\"}).text\n",
    "    except AttributeError:\n",
    "        job_listing_date = 'Featured'\n",
    "    date_mined = datetime.today().strftime('%Y-%m-%d')\n",
    "    job_id = card.get('data-job-id')\n",
    "    bullet_points = ''\n",
    "    x = 0\n",
    "    for li in card.select('li'):\n",
    "        if x == 0:\n",
    "            bullet_points = bullet_points + li.text\n",
    "            x = 1\n",
    "        else:\n",
    "            bullet_points = bullet_points + ' - ' + li.text\n",
    "            \n",
    "    record = (job_id,job_title,company,location,jobshortdescription,bullet_points,job_salary,jobcategory,jobsubcategory,job_url)\n",
    "    \n",
    "    return record"
   ]
  },
  {
   "cell_type": "code",
   "execution_count": null,
   "metadata": {
    "collapsed": true
   },
   "outputs": [],
   "source": [
    "records = []\n",
    "\n",
    "for card in cards:\n",
    "    record = get_record(card)\n",
    "    records.append(record)"
   ]
  },
  {
   "cell_type": "code",
   "execution_count": null,
   "metadata": {
    "collapsed": true
   },
   "outputs": [],
   "source": [
    "print(records[0])"
   ]
  },
  {
   "cell_type": "markdown",
   "metadata": {},
   "source": [
    "## Getting the next page"
   ]
  },
  {
   "cell_type": "code",
   "execution_count": null,
   "metadata": {
    "collapsed": true
   },
   "outputs": [],
   "source": [
    "while True:\n",
    "    try:\n",
    "        url = 'https://www.seek.co.nz' + soup.find(attrs={\"data-automation\": \"page-next\"}).get('href')\n",
    "    except AttributeError:\n",
    "        break\n",
    "    \n",
    "    response = requests.get(url)\n",
    "    soup = BeautifulSoup(response.text, 'html.parser')\n",
    "    cards = soup.find_all('article')\n",
    "    \n",
    "    for card in cards:\n",
    "    record = get_record(card)\n",
    "    records.append(record)"
   ]
  },
  {
   "cell_type": "code",
   "execution_count": null,
   "metadata": {
    "collapsed": true
   },
   "outputs": [],
   "source": [
    "print(len(records))"
   ]
  },
  {
   "cell_type": "markdown",
   "metadata": {},
   "source": [
    "## Saving File to Excel and referencing as a dataframe to ignore previously mined files"
   ]
  },
  {
   "cell_type": "code",
   "execution_count": null,
   "metadata": {
    "collapsed": true
   },
   "outputs": [],
   "source": [
    "#Opening existing file as DB\n",
    "\n",
    "try:\n",
    "    df = pd.read_csv('results.csv')  \n",
    "except FileNotFoundError:\n",
    "    print('No existing file found')\n"
   ]
  },
  {
   "cell_type": "code",
   "execution_count": null,
   "metadata": {
    "collapsed": true
   },
   "outputs": [],
   "source": [
    "df"
   ]
  },
  {
   "cell_type": "code",
   "execution_count": null,
   "metadata": {
    "collapsed": true
   },
   "outputs": [],
   "source": [
    "#https://stackoverflow.com/questions/60675117/returning-a-string-from-loc-query\n",
    "#https://stackoverflow.com/questions/56260348/selecting-single-value-in-a-pandas-dataframe\n",
    "lookup = df.loc[df['ID'] == '1111', 'ID'].values"
   ]
  },
  {
   "cell_type": "code",
   "execution_count": null,
   "metadata": {
    "collapsed": true
   },
   "outputs": [],
   "source": [
    "lookup"
   ]
  },
  {
   "cell_type": "code",
   "execution_count": null,
   "metadata": {
    "collapsed": true
   },
   "outputs": [],
   "source": [
    "if lookup.size > 0:\n",
    "    print('Found')\n",
    "else:\n",
    "    print('Not found')"
   ]
  },
  {
   "cell_type": "code",
   "execution_count": null,
   "metadata": {
    "collapsed": true
   },
   "outputs": [],
   "source": [
    "#Put together\n",
    "def lookup_ID(jobid):\n",
    "    \"\"\"Feed URL for it to look up, will return found or not found\"\"\"\n",
    "    \n",
    "    try:\n",
    "        df = pd.read_csv('results.csv')  \n",
    "        lookup = df.loc[df['ID'] == jobid, 'ID'].values\n",
    "        \n",
    "        if lookup.size > 0:\n",
    "            searchResult = 'Found'\n",
    "         \n",
    "        else:\n",
    "            searchResult = 'Not found'\n",
    "        \n",
    "        return searchResult\n",
    "        \n",
    "    except FileNotFoundError:\n",
    "        searchResult = 'No existing csv file found'\n",
    "        return searchResult\n",
    "        \n",
    "\n"
   ]
  },
  {
   "cell_type": "code",
   "execution_count": null,
   "metadata": {
    "collapsed": true
   },
   "outputs": [],
   "source": [
    "lookup_ID(51160410)"
   ]
  },
  {
   "cell_type": "markdown",
   "metadata": {},
   "source": [
    "## Putting it all together"
   ]
  },
  {
   "cell_type": "code",
   "execution_count": 504,
   "metadata": {},
   "outputs": [],
   "source": [
    "import csv\n",
    "from datetime import datetime\n",
    "import requests\n",
    "from bs4 import BeautifulSoup\n",
    "import time\n",
    "\n",
    "#Global variables are telling Python that you are using these variables in the global pool. \n",
    "#Using them in local command can cause issues. Issues I am having is due to functions cross sharing global\n",
    "#https://www.w3schools.com/python/python_variables_global.asp \n",
    "\n",
    "def lookup_id(jobid):\n",
    "    \"\"\"Feed ID for it to look up, will return found or not found\"\"\"\n",
    "    global df \n",
    "    \n",
    "    lookup = df.loc[df['ID'] == jobid, 'ID'].values\n",
    "    print(jobid)\n",
    " \n",
    "    if lookup.size > 0:\n",
    "        searchResult = 'Found'\n",
    "\n",
    "    else:\n",
    "        searchResult = 'Not found'\n",
    "    \n",
    "    print(searchResult)\n",
    "    return searchResult\n",
    "\n",
    "\n",
    "def get_url(position, location):\n",
    "    \"\"\"Generate a url from position and location\"\"\"\n",
    "    template = 'https://www.seek.co.nz/{}-jobs/in-All-{}'\n",
    "    url = template.format(position, location)\n",
    "    return url\n",
    "\n",
    "\n",
    "def get_record(card):\n",
    "    \"\"\"Extract job data from a single record\"\"\"\n",
    "    global searchResult2\n",
    "    searchResult = ''\n",
    "    job_id = int(card.get('data-job-id'))\n",
    "    \n",
    "    \n",
    "    if searchResult2 != 'No existing csv file found': #If there IS a CSV file, run database lookup\n",
    "        searchResult = lookup_id(job_id)\n",
    "        print('There is a CSV File')\n",
    "        print('Lookup result was : ' + str(searchResult))\n",
    "    \n",
    "    if searchResult == 'Not found' or searchResult2 == 'No existing csv file found' : #If there is no match, or NO CSV file, mine data\n",
    "        job_title = card.find(attrs={\"data-automation\": \"jobTitle\"}).text\n",
    "        job_url = 'https://www.seek.co.nz' + card.find(attrs={\"data-automation\": \"jobTitle\"}).get('href')\n",
    "        \n",
    "        try:\n",
    "            company = card.find(attrs={\"data-automation\": \"jobCompany\"}).text\n",
    "        except AttributeError:\n",
    "            company = ''\n",
    "\n",
    "        location = card.find(attrs={\"data-automation\": \"jobLocation\"}).text\n",
    "\n",
    "        try:\n",
    "            job_salary = card.find(attrs={\"data-automation\": \"jobSalary\"}).text\n",
    "        except AttributeError:\n",
    "            job_salary = ''\n",
    "\n",
    "        job_category = card.find(attrs={\"data-automation\": \"jobClassification\"}).text\n",
    "        job_subcategory = card.find(attrs={\"data-automation\": \"jobSubClassification\"}).text\n",
    "        job_short_description = card.find(attrs={\"data-automation\": \"jobShortDescription\"}).text\n",
    "\n",
    "        try:\n",
    "            job_listing_date = card.find(attrs={\"data-automation\": \"jobListingDate\"}).text\n",
    "        except AttributeError:\n",
    "            job_listing_date = 'Featured'\n",
    "\n",
    "        date_mined = datetime.today().strftime('%Y-%m-%d')\n",
    "        \n",
    "        bullet_points = ''\n",
    "        x = 0\n",
    "        for li in card.select('li'):\n",
    "            if x == 0:\n",
    "                bullet_points = bullet_points + li.text\n",
    "                x = 1\n",
    "            else:\n",
    "                bullet_points = bullet_points + ' - ' + li.text\n",
    "\n",
    "        record = (job_id,job_title,company,location,job_listing_date,date_mined,job_short_description,\n",
    "                  bullet_points,job_salary,job_category,job_subcategory,job_url)\n",
    "        print(searchResult)\n",
    "        print('added')\n",
    "        return record\n",
    "    \n",
    "\n",
    "\n",
    "def main(position,location):\n",
    "    \"\"\"Run the main program routine\"\"\"\n",
    "    global searchResult2\n",
    "    searchResult2 = ''\n",
    "    # Loads CSV and dataframe\n",
    "    global df\n",
    "    try:\n",
    "        df = pd.read_csv('results.csv')  \n",
    " \n",
    "    except FileNotFoundError:\n",
    "        searchResult2 = 'No existing csv file found'\n",
    "        print(searchResult2)\n",
    "     \n",
    "        \n",
    "\n",
    "    \n",
    "    records = []\n",
    "    url = get_url(position, location)\n",
    "    print(url)\n",
    "    \n",
    "    # extract the job data\n",
    "    while True:\n",
    "        response = requests.get(url)\n",
    "        soup = BeautifulSoup(response.text, 'html.parser')\n",
    "        cards = soup.find_all('article')\n",
    "\n",
    "        for card in cards:\n",
    "            time.sleep(1)\n",
    "            record = get_record(card)\n",
    "            if record is not None:   \n",
    "                records.append(record)       \n",
    "        \n",
    "        try:\n",
    "            url = 'https://www.seek.co.nz' + soup.find(attrs={\"data-automation\": \"page-next\"}).get('href')\n",
    "            print(url)\n",
    "        except AttributeError:\n",
    "            print('no more pages, saving data')\n",
    "            print(records)\n",
    "            break\n",
    "            \n",
    "            \n",
    "    # save the job data and creates titles/csv file if not already created\n",
    "  \n",
    "    \n",
    "    if searchResult2 == 'No existing csv file found':\n",
    "        with open('results.csv', 'w', newline='', encoding='utf-8') as f:\n",
    "            writer = csv.writer(f)\n",
    "            writer.writerow(['ID','JobTitle', 'Company', 'Location', 'DateListed', 'DateMined', 'ShortDesc', 'BulletPoints',\n",
    "                             'Salary','Cat','SubCat','URL'])\n",
    "            writer.writerows(records)\n",
    "            print('saved and done')\n",
    "    \n",
    "    else:\n",
    "        with open('results.csv', 'a', newline='', encoding='utf-8') as f:\n",
    "            writer = csv.writer(f)\n",
    "            writer.writerows(records)\n",
    "            print('saved and done')"
   ]
  },
  {
   "cell_type": "code",
   "execution_count": null,
   "metadata": {
    "collapsed": true
   },
   "outputs": [],
   "source": []
  },
  {
   "cell_type": "code",
   "execution_count": 505,
   "metadata": {},
   "outputs": [
    {
     "name": "stdout",
     "output_type": "stream",
     "text": [
      "https://www.seek.co.nz/operations-analyst-jobs/in-All-Auckland\n",
      "51160410\n",
      "Found\n",
      "There is a CSV File\n",
      "Lookup result was : Found\n",
      "51083770\n",
      "Found\n",
      "There is a CSV File\n",
      "Lookup result was : Found\n",
      "51131332\n",
      "Found\n",
      "There is a CSV File\n",
      "Lookup result was : Found\n",
      "51148039\n",
      "Found\n",
      "There is a CSV File\n",
      "Lookup result was : Found\n",
      "51148040\n",
      "Found\n",
      "There is a CSV File\n",
      "Lookup result was : Found\n",
      "51152044\n",
      "Found\n",
      "There is a CSV File\n",
      "Lookup result was : Found\n",
      "51094802\n",
      "Found\n",
      "There is a CSV File\n",
      "Lookup result was : Found\n",
      "51184763\n",
      "Found\n",
      "There is a CSV File\n",
      "Lookup result was : Found\n",
      "51187685\n",
      "Found\n",
      "There is a CSV File\n",
      "Lookup result was : Found\n",
      "51189018\n",
      "Found\n",
      "There is a CSV File\n",
      "Lookup result was : Found\n",
      "51185313\n",
      "Found\n",
      "There is a CSV File\n",
      "Lookup result was : Found\n",
      "51198266\n",
      "Found\n",
      "There is a CSV File\n",
      "Lookup result was : Found\n",
      "51130906\n",
      "Found\n",
      "There is a CSV File\n",
      "Lookup result was : Found\n",
      "51084001\n",
      "Found\n",
      "There is a CSV File\n",
      "Lookup result was : Found\n",
      "51146430\n",
      "Found\n",
      "There is a CSV File\n",
      "Lookup result was : Found\n",
      "51072950\n",
      "Found\n",
      "There is a CSV File\n",
      "Lookup result was : Found\n",
      "51153662\n",
      "Found\n",
      "There is a CSV File\n",
      "Lookup result was : Found\n",
      "51091163\n",
      "Found\n",
      "There is a CSV File\n",
      "Lookup result was : Found\n",
      "51164585\n",
      "Found\n",
      "There is a CSV File\n",
      "Lookup result was : Found\n",
      "51190296\n",
      "Not found\n",
      "There is a CSV File\n",
      "Lookup result was : Not found\n",
      "Not found\n",
      "added\n",
      "https://www.seek.co.nz/operations-analyst-jobs/in-All-Auckland?page=2\n",
      "51155633\n",
      "Not found\n",
      "There is a CSV File\n",
      "Lookup result was : Not found\n",
      "Not found\n",
      "added\n",
      "51157444\n",
      "Not found\n",
      "There is a CSV File\n",
      "Lookup result was : Not found\n",
      "Not found\n",
      "added\n",
      "51165113\n",
      "Not found\n",
      "There is a CSV File\n",
      "Lookup result was : Not found\n",
      "Not found\n",
      "added\n",
      "51148033\n",
      "Not found\n",
      "There is a CSV File\n",
      "Lookup result was : Not found\n",
      "Not found\n",
      "added\n",
      "51147667\n",
      "Not found\n",
      "There is a CSV File\n",
      "Lookup result was : Not found\n",
      "Not found\n",
      "added\n",
      "51182990\n",
      "Not found\n",
      "There is a CSV File\n",
      "Lookup result was : Not found\n",
      "Not found\n",
      "added\n",
      "51146019\n",
      "Not found\n",
      "There is a CSV File\n",
      "Lookup result was : Not found\n",
      "Not found\n",
      "added\n",
      "51177578\n",
      "Not found\n",
      "There is a CSV File\n",
      "Lookup result was : Not found\n",
      "Not found\n",
      "added\n",
      "51177579\n",
      "Not found\n",
      "There is a CSV File\n",
      "Lookup result was : Not found\n",
      "Not found\n",
      "added\n",
      "51095628\n",
      "Not found\n",
      "There is a CSV File\n",
      "Lookup result was : Not found\n",
      "Not found\n",
      "added\n",
      "51148351\n",
      "Not found\n",
      "There is a CSV File\n",
      "Lookup result was : Not found\n",
      "Not found\n",
      "added\n",
      "51191990\n",
      "Not found\n",
      "There is a CSV File\n",
      "Lookup result was : Not found\n",
      "Not found\n",
      "added\n",
      "51115347\n",
      "Not found\n",
      "There is a CSV File\n",
      "Lookup result was : Not found\n",
      "Not found\n",
      "added\n",
      "51162064\n",
      "Not found\n",
      "There is a CSV File\n",
      "Lookup result was : Not found\n",
      "Not found\n",
      "added\n",
      "51177273\n",
      "Not found\n",
      "There is a CSV File\n",
      "Lookup result was : Not found\n",
      "Not found\n",
      "added\n",
      "51177274\n",
      "Not found\n",
      "There is a CSV File\n",
      "Lookup result was : Not found\n",
      "Not found\n",
      "added\n",
      "51136202\n",
      "Not found\n",
      "There is a CSV File\n",
      "Lookup result was : Not found\n",
      "Not found\n",
      "added\n",
      "51115514\n",
      "Found\n",
      "There is a CSV File\n",
      "Lookup result was : Found\n",
      "51112170\n",
      "Found\n",
      "There is a CSV File\n",
      "Lookup result was : Found\n",
      "51178343\n",
      "Found\n",
      "There is a CSV File\n",
      "Lookup result was : Found\n",
      "https://www.seek.co.nz/operations-analyst-jobs/in-All-Auckland?page=3\n",
      "51178342\n",
      "Found\n",
      "There is a CSV File\n",
      "Lookup result was : Found\n",
      "51121888\n",
      "Found\n",
      "There is a CSV File\n",
      "Lookup result was : Found\n",
      "51099746\n",
      "Found\n",
      "There is a CSV File\n",
      "Lookup result was : Found\n",
      "51096486\n",
      "Found\n",
      "There is a CSV File\n",
      "Lookup result was : Found\n",
      "51147895\n",
      "Found\n",
      "There is a CSV File\n",
      "Lookup result was : Found\n",
      "51169975\n",
      "Found\n",
      "There is a CSV File\n",
      "Lookup result was : Found\n",
      "51146302\n",
      "Found\n",
      "There is a CSV File\n",
      "Lookup result was : Found\n",
      "51149782\n",
      "Found\n",
      "There is a CSV File\n",
      "Lookup result was : Found\n",
      "51122319\n",
      "Found\n",
      "There is a CSV File\n",
      "Lookup result was : Found\n",
      "51170919\n",
      "Found\n",
      "There is a CSV File\n",
      "Lookup result was : Found\n",
      "51160178\n",
      "Found\n",
      "There is a CSV File\n",
      "Lookup result was : Found\n",
      "51154615\n",
      "Found\n",
      "There is a CSV File\n",
      "Lookup result was : Found\n",
      "51159862\n",
      "Found\n",
      "There is a CSV File\n",
      "Lookup result was : Found\n",
      "51159932\n",
      "Found\n",
      "There is a CSV File\n",
      "Lookup result was : Found\n",
      "51125603\n",
      "Found\n",
      "There is a CSV File\n",
      "Lookup result was : Found\n",
      "51146548\n",
      "Found\n",
      "There is a CSV File\n",
      "Lookup result was : Found\n",
      "51134361\n",
      "Found\n",
      "There is a CSV File\n",
      "Lookup result was : Found\n",
      "51116845\n",
      "Found\n",
      "There is a CSV File\n",
      "Lookup result was : Found\n",
      "51139124\n",
      "Found\n",
      "There is a CSV File\n",
      "Lookup result was : Found\n",
      "51104285\n",
      "Found\n",
      "There is a CSV File\n",
      "Lookup result was : Found\n",
      "no more pages, saving data\n",
      "[(51190296, 'Integration Analyst', 'Cin7', 'Auckland', '9d ago', '2021-01-02', 'Cin7 is a fast growing SaaS company on the path to be the world’s #1 inventory systems brand.', 'Career growth and development in a global SaaS Company! - Bring your passion and thrive in our innovative and collaborative environment - Generous range of benefits', '', 'Information & Communication Technology', 'Business/Systems Analysts', 'https://www.seek.co.nz/job/51190296?type=standout#searchRequestToken=729b85b8-1a74-4b14-9a26-b7e558705e7a'), (51155633, 'Forecasting Analyst', 'TESLA Asia Pacific', 'Auckland', '15d ago', '2021-01-02', 'Forecasting Analyst crafts and maintains a suite of econometric demand forecasting models for Asia Pacific power markets.', '', '$60,000 - $69,999', 'Mining, Resources & Energy', 'Analysis & Reporting', 'https://www.seek.co.nz/job/51155633?type=standard#searchRequestToken=47c871a3-9521-4e84-915f-4fccb904ecce'), (51157444, 'Senior Business Analyst', 'Datacom', 'Auckland', '15d ago', '2021-01-02', 'Our Group Corporate IT team are looking for an experienced Senior Business Analyst to join their high performing team in Auckland !', \"Lead and mentor a small team of Business Analysts - Corporate, internal facing role with an ERP focus - Grow your career with one of NZ's top IT companies\", '', 'Information & Communication Technology', 'Business/Systems Analysts', 'https://www.seek.co.nz/job/51157444?type=standout#searchRequestToken=47c871a3-9521-4e84-915f-4fccb904ecce'), (51165113, 'Senior Business Analyst - Local Government Solutions - Property & Rating', 'Datacom', 'Auckland', '14d ago', '2021-01-02', 'Our purpose  Here at Datacom we connect people and technology in order to solve challenges, create opportunities and discover new possibilities', \"Calling all Property & Rating BA's! - Bring your Local Government experience to the private sector - Take the next step in your career with an org that takes its people seriously\", '', 'Information & Communication Technology', 'Business/Systems Analysts', 'https://www.seek.co.nz/job/51165113?type=standout#searchRequestToken=47c871a3-9521-4e84-915f-4fccb904ecce'), (51148033, 'BI Architect', 'Halcyon Knights Pty Ltd', 'Auckland', '16d ago', '2021-01-02', 'New perm hire for a BI Architect| Power BI, SSIS, Azure Data Factory, AWS Glue| Agile team| Strategy and leadership', 'Create and execute a BI roadmap that would make a difference - Senior leadership role that covers both technology and management - Talented, dedicated team of peers and clear career path for growth', '', 'Information & Communication Technology', 'Database Development & Administration', 'https://www.seek.co.nz/job/51148033?type=standout#searchRequestToken=47c871a3-9521-4e84-915f-4fccb904ecce'), (51147667, 'Intelligence Analyst', 'New Zealand Police', 'Auckland', '17d ago', '2021-01-02', 'Intelligence Analyst Piki Ki Te Ao, Counties Manukau District Police Employee Intelligence Career Structure Permanent, Fulltime Job Req 27525 \\xa0...', '', '', 'Government & Defence', 'Emergency Services', 'https://www.seek.co.nz/job/51147667?type=standout#searchRequestToken=47c871a3-9521-4e84-915f-4fccb904ecce'), (51182990, 'Junior Data Insights Analyst', 'Fuji Xerox NZ', 'Auckland', '10d ago', '2021-01-02', 'Great role for an individual with passion for developing strong analytical and reporting capabilities to support effective business decision making.', '12 months Fixed Term, full-time position - Close knit team - supportive culture - Internationally renowned and industry leading company', '', 'Information & Communication Technology', 'Business/Systems Analysts', 'https://www.seek.co.nz/job/51182990?type=standout#searchRequestToken=47c871a3-9521-4e84-915f-4fccb904ecce'), (51146019, 'Lead Intelligence Analyst', 'New Zealand Police', 'Auckland', '17d ago', '2021-01-02', 'Lead Intelligence Analyst New Zealand Police Piki Ki Te Ao, Counties Manukau District Police Employee Permanent, Fulltime Job Re...', '', '', 'Government & Defence', 'Emergency Services', 'https://www.seek.co.nz/job/51146019?type=standout#searchRequestToken=47c871a3-9521-4e84-915f-4fccb904ecce'), (51177578, 'Senior Organisational Design Analyst', 'Auckland Council', 'Auckland', '11d ago', '2021-01-02', 'Be the subject matter expert in council on operating model and organisation design.', 'Subject matter expert in council on operating model and organisation design - Connect the dots and proactively drive insight and efficiency. - Permanent opportunity', '', 'Human Resources & Recruitment', 'Organisational Development', 'https://www.seek.co.nz/job/51177578?type=standout#searchRequestToken=47c871a3-9521-4e84-915f-4fccb904ecce'), (51177579, 'Senior Organisational Design Analyst', 'Auckland Council', 'Auckland', '11d ago', '2021-01-02', 'Be the subject matter expert in council on operating model and organisation design.', 'Subject matter expert in council on operating model and organisation design - Connect the dots and proactively drive insight and efficiency. - Permanent opportunity', '', 'Government & Defence', 'Government', 'https://www.seek.co.nz/job/51177579?type=standout#searchRequestToken=47c871a3-9521-4e84-915f-4fccb904ecce'), (51095628, 'Financial Analyst', 'Find Recruitment Limited', 'Auckland', '25d ago', '2021-01-02', 'Exciting opportunity for a Financial analyst to join a leading property company providing commercial analysis and financial modelling for projects.', 'Corporate finance, banking or property experience desirable - Financial Analyst role within high profile property company - CBD location, beautiful offices and exciting projects', 'NZD80000 per annum', 'Banking & Financial Services', 'Corporate Finance & Investment Banking', 'https://www.seek.co.nz/job/51095628?type=standout#searchRequestToken=47c871a3-9521-4e84-915f-4fccb904ecce'), (51148351, 'Senior Intelligence Analyst', 'New Zealand Police', 'Auckland', '16d ago', '2021-01-02', 'Senior Intelligence Analyst Based at Piki Ki Te Ao, Counties Manukau District Police Employee, Permanent, Fulltime Job Req: 27524 About the r...', '', '', 'Government & Defence', 'Other', 'https://www.seek.co.nz/job/51148351?type=standout#searchRequestToken=47c871a3-9521-4e84-915f-4fccb904ecce'), (51191990, 'EHS Systems and Data Analyst', 'Fletcher Building Limited', 'Auckland', '8d ago', '2021-01-02', 'The purpose of this role is to support our EHS systems and deliver data analysis to meet the EHS reporting requirement.', 'Penrose based with onsite parking - Professional development on offer - Enhance and build our safety culture', '', 'Construction', 'Health, Safety & Environment', 'https://www.seek.co.nz/job/51191990?type=standout#searchRequestToken=47c871a3-9521-4e84-915f-4fccb904ecce'), (51115347, 'Configuration Analyst - Local Government - Fixed Term', 'Datacom', 'Auckland', '23d ago', '2021-01-02', 'Our purpose   Here at Datacom we connect people and technology in order to solve challenges, create opportunities and discover new possibilities', 'Fixed Term Opportunity - Bring your Local Government experience to the private sector - Take the next step in your career with an org that takes its people seriously', '', 'Information & Communication Technology', 'Business/Systems Analysts', 'https://www.seek.co.nz/job/51115347?type=standout#searchRequestToken=47c871a3-9521-4e84-915f-4fccb904ecce'), (51162064, 'Test Analyst', 'Recruit IT - Your IT Career and Contract Specialists', 'Auckland', '14d ago', '2021-01-02', 'Awesome environment seeking an experienced Tester to join the team starting Feb 2021!', 'Contract opportunity - Auckland CBD location - February 2021 start', '', 'Information & Communication Technology', 'Testing & Quality Assurance', 'https://www.seek.co.nz/job/51162064?type=standout#searchRequestToken=47c871a3-9521-4e84-915f-4fccb904ecce'), (51177273, 'Senior Performance & Insights Analyst', 'Auckland Council', 'Auckland', '11d ago', '2021-01-02', 'Lead the design and delivery of an enterprise performance insights', 'Lead the design and delivery of an enterprise performance insights - Enable quality decision making on organisational performance - Permanent opportunity', '', 'Consulting & Strategy', 'Analysts', 'https://www.seek.co.nz/job/51177273?type=standout#searchRequestToken=47c871a3-9521-4e84-915f-4fccb904ecce'), (51177274, 'Senior Performance & Insights Analyst', 'Auckland Council', 'Auckland', '11d ago', '2021-01-02', 'Lead the design and delivery of an enterprise performance insights', 'Lead the design and delivery of an enterprise performance insights - Enable quality decision making on organisational performance - Permanent opportunity', '', 'Government & Defence', 'Government', 'https://www.seek.co.nz/job/51177274?type=standout#searchRequestToken=47c871a3-9521-4e84-915f-4fccb904ecce'), (51136202, 'Information service/technology analyst & Air Export Agent', 'Expeditors International', 'Auckland', '18d ago', '2021-01-02', 'We have a vacancy for an experienced IS Analyst, who will also be responsible for some ancillary work in our Air Export department.', '', '', 'Information & Communication Technology', 'Business/Systems Analysts', 'https://www.seek.co.nz/job/51136202?type=standout#searchRequestToken=47c871a3-9521-4e84-915f-4fccb904ecce')]\n",
      "saved and done\n"
     ]
    }
   ],
   "source": [
    "# run the main program\n",
    "main('operations-analyst','Auckland')"
   ]
  },
  {
   "cell_type": "code",
   "execution_count": null,
   "metadata": {
    "collapsed": true
   },
   "outputs": [],
   "source": []
  },
  {
   "cell_type": "code",
   "execution_count": null,
   "metadata": {
    "collapsed": true
   },
   "outputs": [],
   "source": []
  },
  {
   "cell_type": "code",
   "execution_count": null,
   "metadata": {
    "collapsed": true
   },
   "outputs": [],
   "source": []
  },
  {
   "cell_type": "code",
   "execution_count": null,
   "metadata": {
    "collapsed": true
   },
   "outputs": [],
   "source": []
  }
 ],
 "metadata": {
  "kernelspec": {
   "display_name": "Python 3",
   "language": "python",
   "name": "python3"
  },
  "language_info": {
   "codemirror_mode": {
    "name": "ipython",
    "version": 3
   },
   "file_extension": ".py",
   "mimetype": "text/x-python",
   "name": "python",
   "nbconvert_exporter": "python",
   "pygments_lexer": "ipython3",
   "version": "3.6.3"
  }
 },
 "nbformat": 4,
 "nbformat_minor": 2
}
